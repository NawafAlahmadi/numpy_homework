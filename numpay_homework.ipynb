{
 "cells": [
  {
   "cell_type": "code",
   "execution_count": 1,
   "id": "a84f643f",
   "metadata": {},
   "outputs": [],
   "source": [
    "import numpy as np"
   ]
  },
  {
   "cell_type": "code",
   "execution_count": 19,
   "id": "94390714",
   "metadata": {},
   "outputs": [
    {
     "data": {
      "text/plain": [
       "array([[516, 113, 570, 178, 166, 859,  17, 626, 417,  61],\n",
       "       [770, 450, 793, 397,  95, 724,  49, 923, 811, 725],\n",
       "       [337, 732, 675, 564, 227, 703, 594,  90, 514, 567],\n",
       "       [ 62, 979, 542, 745, 619, 620, 856, 107, 145, 557],\n",
       "       [538,  78,  17, 178, 205, 837,  38, 984, 622, 108],\n",
       "       [636, 607, 168, 755,  64,  66, 247,  39, 742, 829],\n",
       "       [153, 443, 144, 774,  59, 662, 682, 387, 673, 102],\n",
       "       [236, 823, 972,   5, 576, 709, 752, 734, 979, 754],\n",
       "       [326, 909, 144, 406, 763, 953, 454, 656, 931,  31],\n",
       "       [512, 379, 874, 496, 413, 408, 878, 565, 936, 692]])"
      ]
     },
     "execution_count": 19,
     "metadata": {},
     "output_type": "execute_result"
    }
   ],
   "source": [
    "a = np.random.randint(1,1000, size=(10,10))\n",
    "a"
   ]
  },
  {
   "cell_type": "code",
   "execution_count": 20,
   "id": "b8589bb0",
   "metadata": {},
   "outputs": [
    {
     "name": "stdout",
     "output_type": "stream",
     "text": [
      "Minimum: 5, maximum: 984\n"
     ]
    }
   ],
   "source": [
    "\n",
    "print(f\"Minimum: {np.min(a)}, maximum: {np.max(a)}\")"
   ]
  },
  {
   "cell_type": "code",
   "execution_count": 28,
   "id": "678680df",
   "metadata": {},
   "outputs": [
    {
     "name": "stdout",
     "output_type": "stream",
     "text": [
      "Array has dim 2, shape (10, 10), size 100, and dtype int32:\n"
     ]
    }
   ],
   "source": [
    "print(f\"Array has dim {np.ndim(a)}, shape {np.shape(a)}, size {np.size(a)}, and dtype {a.dtype}:\")"
   ]
  },
  {
   "cell_type": "code",
   "execution_count": 38,
   "id": "4b3fa6ca",
   "metadata": {},
   "outputs": [
    {
     "name": "stdout",
     "output_type": "stream",
     "text": [
      "the array from 1 to 20 with 7 elements : [ 1  4  7 10 13 16 19] \n",
      " and the inverted array : [19 16 13 10  7  4  1]:\n"
     ]
    }
   ],
   "source": [
    "arr = np.arange(1, 20,3)\n",
    "ivers= arr[::-1]\n",
    "print(f'the array from 1 to 20 with 7 elements : {arr} \\n and the inverted array : {ivers}:' )"
   ]
  },
  {
   "cell_type": "code",
   "execution_count": null,
   "id": "1840da05",
   "metadata": {},
   "outputs": [],
   "source": []
  },
  {
   "cell_type": "code",
   "execution_count": 59,
   "id": "253e6105",
   "metadata": {},
   "outputs": [
    {
     "data": {
      "text/plain": [
       "array([0., 0., 0., 0., 1., 0., 0., 0., 0., 0.])"
      ]
     },
     "execution_count": 59,
     "metadata": {},
     "output_type": "execute_result"
    }
   ],
   "source": [
    "null_v = np.zeros(10)\n",
    "\n",
    "# Set the fifth value to 1\n",
    "null_v[4] = 1\n",
    "null_v"
   ]
  },
  {
   "cell_type": "code",
   "execution_count": 63,
   "id": "9795f7f9",
   "metadata": {},
   "outputs": [
    {
     "data": {
      "text/plain": [
       "(array([770, 450, 793, 397,  95, 724,  49, 923, 811, 725]),\n",
       " array([516, 113, 570, 178, 166, 859,  17, 626, 417,  61]))"
      ]
     },
     "execution_count": 63,
     "metadata": {},
     "output_type": "execute_result"
    }
   ],
   "source": [
    "swap_array=a[0], a[1] = a[1].copy(), a[0].copy()\n",
    "swap_array"
   ]
  },
  {
   "cell_type": "code",
   "execution_count": null,
   "id": "a56ec7c7",
   "metadata": {},
   "outputs": [],
   "source": []
  }
 ],
 "metadata": {
  "kernelspec": {
   "display_name": "Python 3 (ipykernel)",
   "language": "python",
   "name": "python3"
  },
  "language_info": {
   "codemirror_mode": {
    "name": "ipython",
    "version": 3
   },
   "file_extension": ".py",
   "mimetype": "text/x-python",
   "name": "python",
   "nbconvert_exporter": "python",
   "pygments_lexer": "ipython3",
   "version": "3.11.5"
  }
 },
 "nbformat": 4,
 "nbformat_minor": 5
}
